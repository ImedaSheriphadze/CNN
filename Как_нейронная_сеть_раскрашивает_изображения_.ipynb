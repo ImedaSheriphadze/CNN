{
  "nbformat": 4,
  "nbformat_minor": 0,
  "metadata": {
    "colab": {
      "private_outputs": true,
      "provenance": [],
      "gpuType": "T4",
      "authorship_tag": "ABX9TyNLnv+Zj50ismLJCKBxRmFK"
    },
    "kernelspec": {
      "name": "python3",
      "display_name": "Python 3"
    },
    "language_info": {
      "name": "python"
    },
    "accelerator": "GPU"
  },
  "cells": [
    {
      "cell_type": "code",
      "source": [
        "import os\n",
        "os.environ['TF_CPP_MIN_LOG_LEVEL'] = '2'"
      ],
      "metadata": {
        "id": "QMTHC4eJZS6t"
      },
      "execution_count": null,
      "outputs": []
    },
    {
      "cell_type": "code",
      "source": [
        "from keras.layers import Conv2D, UpSampling2D, InputLayer\n",
        "from keras.models import Sequential\n",
        "from skimage.color import rgb2lab, lab2rgb\n",
        "from skimage.io import imsave\n",
        "import numpy as np\n",
        "from google.colab import files\n",
        "from io import BytesIO\n",
        "from PIL import Image\n",
        "import matplotlib.pyplot as plt\n",
        "from skimage.color import rgb2lab, lab2rgb"
      ],
      "metadata": {
        "id": "oW7NajLyZjLd"
      },
      "execution_count": null,
      "outputs": []
    },
    {
      "cell_type": "code",
      "source": [
        "upl = files.upload()\n",
        "names = list(upl.keys())\n",
        "img = Image.open(BytesIO(upl[names[0]]))"
      ],
      "metadata": {
        "id": "2W7hPsREbRr-"
      },
      "execution_count": null,
      "outputs": []
    },
    {
      "cell_type": "code",
      "source": [
        "def processed_image(img):\n",
        "  image = img.resize( (256, 256), Image.BILINEAR)\n",
        "  image = np.array(image, dtype=float)\n",
        "  size = image.shape\n",
        "  lab = rgb2lab(1.0/255*image)\n",
        "  X, Y = lab[:,:,0], lab[:,:,1:]\n",
        "\n",
        "  Y /= 128    # Нормируйте выходное значение в диапазоне от -1 до 1\n",
        "  X = X.reshape(1, size[0], size[1], 1)\n",
        "  Y = Y.reshape(1, size[0], size[1], 2)\n",
        "  return X, Y, size"
      ],
      "metadata": {
        "id": "Sa_LO0Uibwxv"
      },
      "execution_count": null,
      "outputs": []
    },
    {
      "cell_type": "code",
      "source": [
        "X, Y, size = processed_image(img)"
      ],
      "metadata": {
        "id": "_wjMnrw3b-Ua"
      },
      "execution_count": null,
      "outputs": []
    },
    {
      "cell_type": "code",
      "source": [
        "model = Sequential()\n",
        "model.add(InputLayer(input_shape=(None, None, 1)))\n",
        "model.add(Conv2D(64, (3, 3), activation='relu', padding='same'))\n",
        "model.add(Conv2D(64, (3, 3), activation='relu', padding='same', strides=2))\n",
        "model.add(Conv2D(128, (3, 3), activation='relu', padding='same'))\n",
        "model.add(Conv2D(128, (3, 3), activation='relu', padding='same', strides=2))\n",
        "model.add(Conv2D(256, (3, 3), activation='relu', padding='same'))\n",
        "model.add(Conv2D(256, (3, 3), activation='relu', padding='same', strides=2))\n",
        "model.add(Conv2D(512, (3, 3), activation='relu', padding='same'))\n",
        "model.add(Conv2D(256, (3, 3), activation='relu', padding='same'))\n",
        "model.add(Conv2D(128, (3, 3), activation='relu', padding='same'))\n",
        "model.add(UpSampling2D((2, 2)))\n",
        "model.add(Conv2D(64, (3, 3), activation='relu', padding='same'))\n",
        "model.add(UpSampling2D((2, 2)))\n",
        "model.add(Conv2D(32, (3, 3), activation='relu', padding='same'))\n",
        "model.add(Conv2D(2, (3, 3), activation='tanh', padding='same'))\n",
        "model.add(UpSampling2D((2, 2)))"
      ],
      "metadata": {
        "id": "va_gGgoOcHl2"
      },
      "execution_count": null,
      "outputs": []
    },
    {
      "cell_type": "code",
      "source": [
        "model.compile(optimizer='adam', loss='mse')\n",
        "model.fit(x=X, y=Y, batch_size=1, epochs=50)"
      ],
      "metadata": {
        "id": "MtcX8gKFcOKc"
      },
      "execution_count": null,
      "outputs": []
    },
    {
      "cell_type": "code",
      "source": [
        "upl = files.upload()\n",
        "names = list(upl.keys())\n",
        "img = Image.open(BytesIO(upl[names[0]]))\n",
        "X, Y, size = processed_image(img)"
      ],
      "metadata": {
        "id": "4nUIpbuqeUkR"
      },
      "execution_count": null,
      "outputs": []
    },
    {
      "cell_type": "code",
      "source": [
        "output = model.predict(X)"
      ],
      "metadata": {
        "id": "99DTTzCaegC1"
      },
      "execution_count": null,
      "outputs": []
    },
    {
      "cell_type": "code",
      "source": [
        "output *= 128\n",
        "min_vals, max_vals = -128, 127\n",
        "ab = np.clip(output[0], min_vals, max_vals)"
      ],
      "metadata": {
        "id": "c_HGNDGDelG0"
      },
      "execution_count": null,
      "outputs": []
    },
    {
      "cell_type": "code",
      "source": [
        "cur = np.zeros((size[0], size[1], 3))\n",
        "cur[:,:,0] = np.clip(X[0][:,:,0], 0, 100)\n",
        "cur[:,:,1:] = ab\n",
        "plt.subplot(1, 2, 1)\n",
        "plt.imshow(img)\n",
        "plt.subplot(1, 2, 2)\n",
        "plt.imshow(lab2rgb(cur))"
      ],
      "metadata": {
        "id": "lIOnGTASep_F"
      },
      "execution_count": null,
      "outputs": []
    }
  ]
}