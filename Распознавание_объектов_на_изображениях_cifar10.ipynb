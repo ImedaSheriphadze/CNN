{
  "nbformat": 4,
  "nbformat_minor": 0,
  "metadata": {
    "colab": {
      "private_outputs": true,
      "provenance": [],
      "gpuType": "T4",
      "authorship_tag": "ABX9TyMZAyd33V2GfyYzlOLFyQJ0"
    },
    "kernelspec": {
      "name": "python3",
      "display_name": "Python 3"
    },
    "language_info": {
      "name": "python"
    },
    "accelerator": "GPU"
  },
  "cells": [
    {
      "cell_type": "code",
      "source": [
        "import os\n",
        "os.environ['TF_CPP_MIN_LOG_LEVEL'] = '2'"
      ],
      "metadata": {
        "id": "bdgyFX6ZdqMX"
      },
      "execution_count": null,
      "outputs": []
    },
    {
      "cell_type": "code",
      "source": [
        "import numpy as np\n",
        "from keras.datasets import cifar10\n",
        "from keras.models import Sequential\n",
        "from keras.layers import Dense, Flatten, Activation\n",
        "from keras.layers import Dropout\n",
        "from keras.layers.convolutional import Conv2D, MaxPooling2D\n",
        "from keras.utils import np_utils\n",
        "from keras.optimizers import SGD\n",
        "from sklearn.metrics import precision_score, recall_score, f1_score\n",
        "import matplotlib.pyplot as plt\n",
        "%matplotlib inline"
      ],
      "metadata": {
        "id": "u3iRSrIbdsBq"
      },
      "execution_count": null,
      "outputs": []
    },
    {
      "cell_type": "code",
      "source": [
        "# Задаем seed для повторяемости результатов\n",
        "np.random.seed(42)"
      ],
      "metadata": {
        "id": "Jx9M87iHe0Q1"
      },
      "execution_count": null,
      "outputs": []
    },
    {
      "cell_type": "code",
      "source": [
        "# Загружаем данные\n",
        "(X_train, y_train), (X_test, y_test) = cifar10.load_data()"
      ],
      "metadata": {
        "id": "E0AA08UOfFjz"
      },
      "execution_count": null,
      "outputs": []
    },
    {
      "cell_type": "code",
      "source": [
        "# Размер мини-выборки\n",
        "batch_size = 32\n",
        "# Количество классов изображений\n",
        "nb_classes = 10\n",
        "# Количество эпох для обучения\n",
        "nb_epoch = 25\n",
        "# Размер изображений\n",
        "img_rows, img_cols = 32, 32\n",
        "# Количество каналов в изображении: RGB\n",
        "img_channels = 3"
      ],
      "metadata": {
        "id": "xW67vBxafh2r"
      },
      "execution_count": null,
      "outputs": []
    },
    {
      "cell_type": "code",
      "source": [
        "# Нормализуем данные\n",
        "X_train = X_train.astype('float32')\n",
        "X_test = X_test.astype('float32')\n",
        "X_train /= 255\n",
        "X_test /= 255\n",
        "\n",
        "# Преобразуем метки в категории\n",
        "Y_train = np_utils.to_categorical(y_train, nb_classes)\n",
        "Y_test = np_utils.to_categorical(y_test, nb_classes)"
      ],
      "metadata": {
        "id": "FFQPlRdcfsj2"
      },
      "execution_count": null,
      "outputs": []
    },
    {
      "cell_type": "code",
      "source": [
        "# Создаем последовательную модель\n",
        "model = Sequential()\n",
        "\n",
        "# Первый сверточный слой\n",
        "model.add(Conv2D(32, (3, 3), padding='same', input_shape=(32, 32, 3), activation='relu'))\n",
        "\n",
        "# Второй сверточный слой\n",
        "model.add(Conv2D(32, (3, 3), activation='relu', padding='same'))\n",
        "\n",
        "# Первый слой подвыборки\n",
        "model.add(MaxPooling2D(pool_size=(2, 2)))\n",
        "\n",
        "# Слой регуляризации Dropout\n",
        "model.add(Dropout(0.25))\n",
        "\n",
        "# Третий сверточный слой\n",
        "model.add(Conv2D(64, (3, 3), padding='same', activation='relu'))\n",
        "\n",
        "# Четвертый сверточный слой\n",
        "model.add(Conv2D(64, (3, 3), activation='relu'))\n",
        "\n",
        "# Второй слой подвыборки\n",
        "model.add(MaxPooling2D(pool_size=(2, 2)))\n",
        "\n",
        "# Слой регуляризации Dropout\n",
        "model.add(Dropout(0.25))\n",
        "\n",
        "# Слой преобразования данных из 2D представления в плоское\n",
        "model.add(Flatten())\n",
        "\n",
        "# Полносвязный слой для классификации\n",
        "model.add(Dense(512, activation='relu'))\n",
        "\n",
        "# Слой регуляризации Dropout\n",
        "model.add(Dropout(0.5))\n",
        "\n",
        "# Выходной полносвязный слой\n",
        "model.add(Dense(nb_classes, activation='softmax'))\n"
      ],
      "metadata": {
        "id": "3r4u_ic8gI0j"
      },
      "execution_count": null,
      "outputs": []
    },
    {
      "cell_type": "code",
      "source": [
        "print(model.summary())      # ნეირონული ქსელის სტრუქტურის გამტანა კონსოლში"
      ],
      "metadata": {
        "id": "0A9xaeVMhgyO"
      },
      "execution_count": null,
      "outputs": []
    },
    {
      "cell_type": "code",
      "source": [
        "# Задаем параметры оптимизации\n",
        "sgd = SGD(lr=0.01, decay=1e-6, momentum=0.9, nesterov=True)\n",
        "model.compile(loss='categorical_crossentropy', optimizer=sgd, metrics=['accuracy'])\n"
      ],
      "metadata": {
        "id": "BTA2wL0oghE2"
      },
      "execution_count": null,
      "outputs": []
    },
    {
      "cell_type": "code",
      "source": [
        "# Обучаем модель\n",
        "history = model.fit(X_train, Y_train,\n",
        "                    batch_size=batch_size,\n",
        "                    epochs=nb_epoch,\n",
        "                    validation_split=0.1,\n",
        "                    shuffle=True,\n",
        "                    verbose=2)"
      ],
      "metadata": {
        "id": "6E4DltTPgjnK"
      },
      "execution_count": null,
      "outputs": []
    },
    {
      "cell_type": "code",
      "source": [
        "# Построение графика правильности\n",
        "plt.plot(history.history['accuracy'])\n",
        "plt.plot(history.history['val_accuracy'])\n",
        "plt.title('Точность модели')\n",
        "plt.xlabel('Эпоха')\n",
        "plt.ylabel('Точность')\n",
        "plt.legend(['Тренироваться', 'Проверка'], loc='upper left')\n",
        "plt.show()"
      ],
      "metadata": {
        "id": "_57bJdyf7WD6"
      },
      "execution_count": null,
      "outputs": []
    },
    {
      "cell_type": "code",
      "source": [
        "# Оцените обученную модель на тестовом наборе\n",
        "scores = model.evaluate(X_test, Y_test, verbose=0)\n",
        "print(\"Точность на тестовом наборе: %.2f%%\" % (scores[1]*100))"
      ],
      "metadata": {
        "id": "lcdqt7KbBT1z"
      },
      "execution_count": null,
      "outputs": []
    },
    {
      "cell_type": "code",
      "source": [
        "# Делайте прогнозы на тестовом наборе\n",
        "predictions = model.predict(X_test)\n",
        "y_pred = np.argmax(predictions, axis=1)"
      ],
      "metadata": {
        "id": "NN_8QpBvBY5A"
      },
      "execution_count": null,
      "outputs": []
    },
    {
      "cell_type": "code",
      "source": [
        "# Рассчитать точность, отзыв и оценку F1\n",
        "precision = precision_score(y_test, y_pred, average='macro')\n",
        "recall = recall_score(y_test, y_pred, average='macro')\n",
        "f1 = f1_score(y_test, y_pred, average='macro')"
      ],
      "metadata": {
        "id": "w63_NkXpH1ba"
      },
      "execution_count": null,
      "outputs": []
    },
    {
      "cell_type": "code",
      "source": [
        "print(\"Точность: %.2f\" % precision)\n",
        "print(\"Отзывать: %.2f\" % recall)\n",
        "print(\"Оценка F1: %.2f\" % f1)"
      ],
      "metadata": {
        "id": "pd8f8RACH_tP"
      },
      "execution_count": null,
      "outputs": []
    },
    {
      "cell_type": "code",
      "source": [
        "from keras.preprocessing import image\n",
        "from PIL import Image"
      ],
      "metadata": {
        "id": "F_5SGI_zR045"
      },
      "execution_count": null,
      "outputs": []
    },
    {
      "cell_type": "code",
      "source": [
        "# Загрузите загруженное изображение и измените его размер на (32, 32)\n",
        "uploaded_image_path = 'uploaded_image.jpg'\n",
        "uploaded_image = Image.open(uploaded_image_path)\n",
        "uploaded_image = uploaded_image.resize((32, 32))\n",
        "uploaded_image = np.array(uploaded_image)\n",
        "uploaded_image = np.expand_dims(uploaded_image, axis=0)\n",
        "uploaded_image = uploaded_image.astype('float32') / 255.0"
      ],
      "metadata": {
        "id": "5DjAx9QrIVGg"
      },
      "execution_count": null,
      "outputs": []
    },
    {
      "cell_type": "code",
      "source": [
        "# Сделать прогноз\n",
        "prediction = model.predict(uploaded_image)\n",
        "predicted_class = np.argmax(prediction)\n",
        "class_labels = ['Самолет', 'Автомобиль', 'Птица', 'Кот', 'Олень', 'Собака', 'Лягушка', 'Лошадь', 'Корабль', 'Грузовик']\n",
        "predicted_class_label = class_labels[predicted_class]\n",
        "print(\"Прогнозируемый класс: \", predicted_class_label)"
      ],
      "metadata": {
        "id": "QT2ss-syTZtS"
      },
      "execution_count": null,
      "outputs": []
    },
    {
      "cell_type": "code",
      "source": [
        "# Отображение загруженного изображения с предсказанной меткой класса\n",
        "import matplotlib.pyplot as plt\n",
        "\n",
        "plt.imshow(uploaded_image[0])\n",
        "plt.title('Прогнозируемый класс: ' + predicted_class_label)\n",
        "plt.axis('off')\n",
        "plt.show()"
      ],
      "metadata": {
        "id": "zpjBvKHgT3_0"
      },
      "execution_count": null,
      "outputs": []
    }
  ]
}