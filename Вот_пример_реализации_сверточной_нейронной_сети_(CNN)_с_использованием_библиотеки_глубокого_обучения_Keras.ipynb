{
  "nbformat": 4,
  "nbformat_minor": 0,
  "metadata": {
    "colab": {
      "provenance": [],
      "gpuType": "T4",
      "authorship_tag": "ABX9TyMEWZvB2+r6OyG1Dhu+XXkD"
    },
    "kernelspec": {
      "name": "python3",
      "display_name": "Python 3"
    },
    "language_info": {
      "name": "python"
    },
    "accelerator": "GPU"
  },
  "cells": [
    {
      "cell_type": "markdown",
      "source": [
        "Вот пример реализации сверточной нейронной сети (**CNN**) с использованием библиотеки глубокого обучения **Keras**:"
      ],
      "metadata": {
        "id": "UMNNKTQtHwEY"
      }
    },
    {
      "cell_type": "code",
      "execution_count": 2,
      "metadata": {
        "colab": {
          "base_uri": "https://localhost:8080/"
        },
        "id": "mAUHDCa_GMnZ",
        "outputId": "4979545b-8e49-4810-f6bc-103fbfd828e1"
      },
      "outputs": [
        {
          "output_type": "stream",
          "name": "stdout",
          "text": [
            "Epoch 1/10\n",
            "422/422 [==============================] - 4s 5ms/step - loss: 0.2325 - accuracy: 0.9318 - val_loss: 0.0600 - val_accuracy: 0.9815\n",
            "Epoch 2/10\n",
            "422/422 [==============================] - 2s 4ms/step - loss: 0.0648 - accuracy: 0.9804 - val_loss: 0.0451 - val_accuracy: 0.9868\n",
            "Epoch 3/10\n",
            "422/422 [==============================] - 2s 5ms/step - loss: 0.0436 - accuracy: 0.9870 - val_loss: 0.0413 - val_accuracy: 0.9877\n",
            "Epoch 4/10\n",
            "422/422 [==============================] - 2s 4ms/step - loss: 0.0339 - accuracy: 0.9892 - val_loss: 0.0424 - val_accuracy: 0.9877\n",
            "Epoch 5/10\n",
            "422/422 [==============================] - 2s 5ms/step - loss: 0.0245 - accuracy: 0.9924 - val_loss: 0.0318 - val_accuracy: 0.9905\n",
            "Epoch 6/10\n",
            "422/422 [==============================] - 2s 5ms/step - loss: 0.0225 - accuracy: 0.9931 - val_loss: 0.0361 - val_accuracy: 0.9900\n",
            "Epoch 7/10\n",
            "422/422 [==============================] - 2s 5ms/step - loss: 0.0174 - accuracy: 0.9943 - val_loss: 0.0329 - val_accuracy: 0.9908\n",
            "Epoch 8/10\n",
            "422/422 [==============================] - 2s 5ms/step - loss: 0.0137 - accuracy: 0.9958 - val_loss: 0.0356 - val_accuracy: 0.9892\n",
            "Epoch 9/10\n",
            "422/422 [==============================] - 2s 4ms/step - loss: 0.0105 - accuracy: 0.9966 - val_loss: 0.0394 - val_accuracy: 0.9905\n",
            "Epoch 10/10\n",
            "422/422 [==============================] - 2s 4ms/step - loss: 0.0092 - accuracy: 0.9969 - val_loss: 0.0462 - val_accuracy: 0.9898\n",
            "313/313 [==============================] - 1s 3ms/step - loss: 0.0403 - accuracy: 0.9884\n",
            "Точность теста: 0.9883999824523926\n"
          ]
        }
      ],
      "source": [
        "import numpy as np\n",
        "from tensorflow import keras\n",
        "from tensorflow.keras import layers\n",
        "\n",
        "# Импортировать необходимые библиотеки и набор данных\n",
        "from tensorflow.keras.datasets import mnist\n",
        "\n",
        "# Загрузите набор данных MNIST\n",
        "(train_images, train_labels), (test_images, test_labels) = mnist.load_data()\n",
        "\n",
        "# Предварительно обработать набор данных\n",
        "# Нормализация значений пикселей между 0 и 1\n",
        "train_images = train_images.astype(\"float32\") / 255.0\n",
        "test_images = test_images.astype(\"float32\") / 255.0\n",
        "\n",
        "# Добавьте измерение канала (для изображений в градациях серого)\n",
        "train_images = np.expand_dims(train_images, -1)\n",
        "test_images = np.expand_dims(test_images, -1)\n",
        "\n",
        "# Разработать архитектуру CNN\n",
        "model = keras.Sequential(\n",
        "    [\n",
        "        layers.Conv2D(32, kernel_size=(3, 3), activation=\"relu\", input_shape=(28, 28, 1)),\n",
        "        layers.MaxPooling2D(pool_size=(2, 2)),\n",
        "        layers.Conv2D(64, kernel_size=(3, 3), activation=\"relu\"),\n",
        "        layers.MaxPooling2D(pool_size=(2, 2)),\n",
        "        layers.Flatten(),\n",
        "        layers.Dense(128, activation=\"relu\"),\n",
        "        layers.Dense(10, activation=\"softmax\"),\n",
        "    ]\n",
        ")\n",
        "\n",
        "# Скомпилируйте модель\n",
        "model.compile(loss=\"sparse_categorical_crossentropy\", optimizer=\"adam\", metrics=[\"accuracy\"])\n",
        "\n",
        "# Обучите модель\n",
        "model.fit(train_images, train_labels, batch_size=128, epochs=10, validation_split=0.1)\n",
        "\n",
        "# Оцените модель на тестовом наборе\n",
        "test_loss, test_acc = model.evaluate(test_images, test_labels)\n",
        "print(\"Точность теста:\", test_acc)\n"
      ]
    },
    {
      "cell_type": "markdown",
      "source": [
        "В этом примере мы импортируем необходимые библиотеки, включая **Keras**, и загружаем набор данных **MNIST**. Набор данных предварительно обрабатывается путем нормализации значений пикселей от **0** до **1**. Затем мы разрабатываем архитектуру **CNN**, используя сверточные слои, объединяющие слои и полносвязные слои. Модель компилируется с соответствующей функцией потерь (разреженная **категориальная кросс-энтропия**) и оптимизатором (**Адам**). Мы обучаем модель на тренировочном наборе и оцениваем ее производительность на тестовом наборе с помощью функции оценки. Наконец, мы печатаем оценку точности теста.\n",
        "\n",
        "Вы можете запустить этот код, установив необходимые библиотеки (**TensorFlow** и **Keras**) и выполнив его в среде **Python** с доступом к набору данных **MNIST**.\n",
        "\n",
        "Анализ и обсуждение результатов могут включать изучение кривых **точности**/**потери** обучения и проверки, сравнение точности теста с точностью обучения/проверки и обсуждение любых наблюдений или выводов, полученных из результатов."
      ],
      "metadata": {
        "id": "cKaNSAtkH8Iy"
      }
    }
  ]
}