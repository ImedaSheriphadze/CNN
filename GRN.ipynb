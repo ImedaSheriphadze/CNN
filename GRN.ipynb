{
  "nbformat": 4,
  "nbformat_minor": 0,
  "metadata": {
    "colab": {
      "private_outputs": true,
      "provenance": [],
      "gpuType": "T4",
      "authorship_tag": "ABX9TyNi3ZY33vEKsSYk0MFe2VmL"
    },
    "kernelspec": {
      "name": "python3",
      "display_name": "Python 3"
    },
    "language_info": {
      "name": "python"
    },
    "accelerator": "GPU"
  },
  "cells": [
    {
      "cell_type": "code",
      "source": [
        "import numpy as np\n",
        "import tensorflow as tf\n",
        "from tensorflow.keras.layers import Input, Dense\n",
        "from tensorflow.keras.models import Model\n",
        "from tensorflow.keras.datasets import mnist\n",
        "import matplotlib.pyplot as plt\n",
        "\n",
        "# Загрузите и предварительно обработайте данные MNIST\n",
        "(x_train, _), (x_test, _) = mnist.load_data()\n",
        "\n",
        "# Нормализуйте и сгладьте изображения\n",
        "x_train = x_train.astype('float32') / 255.0\n",
        "x_test = x_test.astype('float32') / 255.0\n",
        "x_train_flattened = x_train.reshape(-1, 784)\n",
        "x_test_flattened = x_test.reshape(-1, 784)\n",
        "\n",
        "# Определите кодировщик\n",
        "input_dim = 784  # Размерность входных данных\n",
        "encoding_dim = 32  # Размерность закодированного представления\n",
        "\n",
        "input_data = Input(shape=(input_dim,))\n",
        "encoder = Dense(128, activation='relu')(input_data)\n",
        "encoder = Dense(encoding_dim, activation='relu')(encoder)\n",
        "encoder_model = Model(input_data, encoder)\n",
        "\n",
        "# Определите декодер\n",
        "decoder_input = Input(shape=(encoding_dim,))\n",
        "decoder = Dense(128, activation='relu')(decoder_input)\n",
        "decoder = Dense(input_dim, activation='sigmoid')(decoder)\n",
        "decoder_model = Model(decoder_input, decoder)\n",
        "\n",
        "# Создайте автоэнкодер\n",
        "autoencoder_input = Input(shape=(input_dim,))\n",
        "encoded_output = encoder_model(autoencoder_input)\n",
        "decoded_output = decoder_model(encoded_output)\n",
        "autoencoder_model = Model(autoencoder_input, decoded_output)\n",
        "\n",
        "# Скомпилируйте модель\n",
        "autoencoder_model.compile(optimizer='adam', loss='mean_squared_error')\n",
        "\n",
        "# Обучите модель\n",
        "autoencoder_model.fit(x_train_flattened, x_train_flattened, epochs=10, batch_size=128, shuffle=True)\n",
        "\n",
        "# Кодировать и декодировать данные\n",
        "encoded_data = encoder_model.predict(x_test_flattened[:10])\n",
        "decoded_data = decoder_model.predict(encoded_data)\n",
        "\n",
        "# Визуализируйте результаты\n",
        "plt.figure(figsize=(10, 4))\n",
        "for i in range(10):\n",
        "    # Исходное изображение\n",
        "    plt.subplot(2, 10, i + 1)\n",
        "    plt.imshow(x_test[i], cmap='gray')\n",
        "    plt.axis('off')\n",
        "\n",
        "    # Декодированное изображение\n",
        "    plt.subplot(2, 10, i + 11)\n",
        "    plt.imshow(decoded_data[i].reshape(28, 28), cmap='gray')\n",
        "    plt.axis('off')\n",
        "\n",
        "plt.show()\n"
      ],
      "metadata": {
        "id": "H9Ba4IJJQNIN"
      },
      "execution_count": null,
      "outputs": []
    }
  ]
}