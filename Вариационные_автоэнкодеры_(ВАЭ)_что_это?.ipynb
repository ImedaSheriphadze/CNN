{
  "nbformat": 4,
  "nbformat_minor": 0,
  "metadata": {
    "colab": {
      "private_outputs": true,
      "provenance": [],
      "authorship_tag": "ABX9TyO1zY3BiFAPVPDCkQqC3tb4"
    },
    "kernelspec": {
      "name": "python3",
      "display_name": "Python 3"
    },
    "language_info": {
      "name": "python"
    },
    "accelerator": "GPU",
    "gpuClass": "standard"
  },
  "cells": [
    {
      "cell_type": "code",
      "execution_count": null,
      "metadata": {
        "id": "OTuiVCgkWrpc"
      },
      "outputs": [],
      "source": [
        "import os\n",
        "os.environ['TF_CPP_MIN_LOG_LEVEL'] = '2'"
      ]
    },
    {
      "cell_type": "code",
      "source": [
        "import numpy as np\n",
        "import matplotlib.pyplot as plt\n",
        "from tensorflow.keras.datasets import mnist\n",
        "from tensorflow import keras\n",
        "import keras.backend as K\n",
        "from tensorflow.keras.layers import Dense, Flatten, Reshape, Input, Lambda, BatchNormalization, Dropout"
      ],
      "metadata": {
        "id": "ok1jz5saW3k-"
      },
      "execution_count": null,
      "outputs": []
    },
    {
      "cell_type": "code",
      "source": [
        "(x_train, y_train), (x_test, y_test) = mnist.load_data()"
      ],
      "metadata": {
        "id": "JqDea4VzW-vy"
      },
      "execution_count": null,
      "outputs": []
    },
    {
      "cell_type": "code",
      "source": [
        "# стандартизация входных данных\n",
        "x_train = x_train / 255\n",
        "x_test = x_test / 255\n",
        "\n",
        "x_train = np.reshape(x_train, (len(x_train), 28, 28, 1))\n",
        "x_test  = np.reshape(x_test,  (len(x_test),  28, 28, 1))"
      ],
      "metadata": {
        "id": "g0i_i4pqXEWr"
      },
      "execution_count": null,
      "outputs": []
    },
    {
      "cell_type": "code",
      "source": [
        "hidden_dim = 2\n",
        "batch_size = 60 # должно быть кратно 60 000"
      ],
      "metadata": {
        "id": "aw3Gyw4JXKa7"
      },
      "execution_count": null,
      "outputs": []
    },
    {
      "cell_type": "code",
      "source": [
        "def dropout_and_batch(x):\n",
        "  return Dropout(0.3)(BatchNormalization()(x))"
      ],
      "metadata": {
        "id": "rLDnELkcXPT9"
      },
      "execution_count": null,
      "outputs": []
    },
    {
      "cell_type": "code",
      "source": [
        "input_img = Input((28, 28, 1))\n",
        "x = Flatten()(input_img)\n",
        "x = Dense(256, activation='relu')(x)\n",
        "x = dropout_and_batch(x)\n",
        "x = Dense(128, activation='relu')(x)\n",
        "x = dropout_and_batch(x)"
      ],
      "metadata": {
        "id": "e_KDH8d_XUPL"
      },
      "execution_count": null,
      "outputs": []
    },
    {
      "cell_type": "code",
      "source": [
        "z_mean = Dense(hidden_dim)(x)\n",
        "z_log_var = Dense(hidden_dim)(x)"
      ],
      "metadata": {
        "id": "KZJ2RgKpXaPy"
      },
      "execution_count": null,
      "outputs": []
    },
    {
      "cell_type": "code",
      "source": [
        "def noiser(args):\n",
        "  global z_mean, z_log_var\n",
        "  z_mean, z_log_var = args\n",
        "  N = K.random_normal(shape=(batch_size, hidden_dim), mean=0., stddev=1.0)\n",
        "  return K.exp(z_log_var / 2) * N + z_mean"
      ],
      "metadata": {
        "id": "D8XW2QvOXe4r"
      },
      "execution_count": null,
      "outputs": []
    },
    {
      "cell_type": "code",
      "source": [
        "h = Lambda(noiser, output_shape=(hidden_dim,))([z_mean, z_log_var])"
      ],
      "metadata": {
        "id": "cfm7RYM9XkYr"
      },
      "execution_count": null,
      "outputs": []
    },
    {
      "cell_type": "code",
      "source": [
        "input_dec = Input(shape=(hidden_dim,))\n",
        "d = Dense(128, activation='relu')(input_dec)\n",
        "d = dropout_and_batch(d)\n",
        "d = Dense(256, activation='relu')(d)\n",
        "d = dropout_and_batch(d)\n",
        "d = Dense(28*28, activation='sigmoid')(d)\n",
        "decoded = Reshape((28, 28, 1))(d)"
      ],
      "metadata": {
        "id": "Rm7O6IaUXqCY"
      },
      "execution_count": null,
      "outputs": []
    },
    {
      "cell_type": "code",
      "source": [
        "encoder = keras.Model(input_img, h, name='encoder')\n",
        "decoder = keras.Model(input_dec, decoded, name='decoder')\n",
        "vae = keras.Model(input_img, decoder(encoder(input_img)), name=\"vae\")"
      ],
      "metadata": {
        "id": "nRldbW00XvD5"
      },
      "execution_count": null,
      "outputs": []
    },
    {
      "cell_type": "code",
      "source": [
        "def vae_loss(x, y):\n",
        "  x = K.reshape(x, shape=(batch_size, 28*28))\n",
        "  y = K.reshape(y, shape=(batch_size, 28*28))\n",
        "  loss = K.sum(K.square(x-y), axis=-1)\n",
        "  kl_loss = -0.5 * K.sum(1 + z_log_var - K.square(z_mean) - K.exp(z_log_var), axis=-1)\n",
        "  return loss + kl_loss"
      ],
      "metadata": {
        "id": "hBxHiQqJX1PT"
      },
      "execution_count": null,
      "outputs": []
    },
    {
      "cell_type": "code",
      "source": [
        "vae.compile(optimizer='adam', loss=vae_loss)"
      ],
      "metadata": {
        "id": "_DSZ9EBkX6Rz"
      },
      "execution_count": null,
      "outputs": []
    },
    {
      "cell_type": "code",
      "source": [
        "vae.fit(x_train, x_train, epochs=5, batch_size=batch_size, shuffle=True)"
      ],
      "metadata": {
        "id": "MeomCGTNYAIs"
      },
      "execution_count": null,
      "outputs": []
    },
    {
      "cell_type": "code",
      "source": [
        "h = encoder.predict(x_test[:6000], batch_size=batch_size)\n",
        "plt.scatter(h[:, 0], h[:, 1])"
      ],
      "metadata": {
        "id": "Jm9QW1dHYP-b"
      },
      "execution_count": null,
      "outputs": []
    },
    {
      "cell_type": "code",
      "source": [
        "n = 3\n",
        "total = 2*n+1\n",
        "\n",
        "plt.figure(figsize=(total, total))"
      ],
      "metadata": {
        "id": "OMsya5v6YVvL"
      },
      "execution_count": null,
      "outputs": []
    },
    {
      "cell_type": "code",
      "source": [
        "num = 1\n",
        "for i in range(-n, n+1):\n",
        "  for j in range(-n, n+1):\n",
        "    ax = plt.subplot(total, total, num)\n",
        "    num += 1\n",
        "    img = decoder.predict(np.expand_dims([3*i/n, 3*j/n], axis=0))\n",
        "    plt.imshow(img.squeeze(), cmap='gray')\n",
        "    ax.get_xaxis().set_visible(False)\n",
        "    ax.get_yaxis().set_visible(False)"
      ],
      "metadata": {
        "id": "SLLjmhpUYfq2"
      },
      "execution_count": null,
      "outputs": []
    }
  ]
}