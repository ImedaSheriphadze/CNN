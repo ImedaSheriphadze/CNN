{
  "nbformat": 4,
  "nbformat_minor": 0,
  "metadata": {
    "colab": {
      "private_outputs": true,
      "provenance": [],
      "gpuType": "T4",
      "authorship_tag": "ABX9TyM1rC32jUGdQxnja+PhgHzQ"
    },
    "kernelspec": {
      "name": "python3",
      "display_name": "Python 3"
    },
    "language_info": {
      "name": "python"
    },
    "accelerator": "GPU"
  },
  "cells": [
    {
      "cell_type": "code",
      "execution_count": null,
      "metadata": {
        "id": "L7KpkXq785yw"
      },
      "outputs": [],
      "source": [
        "import numpy as np\n",
        "import matplotlib.pyplot as plt\n",
        "from google.colab import files\n",
        "from io import BytesIO\n",
        "from PIL import Image\n",
        "from skimage.color import rgb2lab, lab2rgb\n",
        "\n",
        "import tensorflow as tf\n",
        "from tensorflow import keras"
      ]
    },
    {
      "cell_type": "code",
      "source": [
        "upl = files.upload()\n",
        "img = Image.open(BytesIO(upl['img.jpg']))\n",
        "img_style = Image.open(BytesIO(upl['img_style.jpg']))"
      ],
      "metadata": {
        "id": "S0KX6FDS9GNS"
      },
      "execution_count": null,
      "outputs": []
    },
    {
      "cell_type": "code",
      "source": [
        "plt.subplot(1, 2, 1)\n",
        "plt.imshow( img )\n",
        "plt.subplot(1, 2, 2)\n",
        "plt.imshow( img_style )\n",
        "plt.show()"
      ],
      "metadata": {
        "id": "TTLSOvqE9jZj"
      },
      "execution_count": null,
      "outputs": []
    },
    {
      "cell_type": "code",
      "source": [
        "x_img = keras.applications.vgg19.preprocess_input( np.expand_dims(img, axis=0) )\n",
        "x_style = keras.applications.vgg19.preprocess_input(np.expand_dims(img_style, axis=0))"
      ],
      "metadata": {
        "id": "R1tjtn4195u6"
      },
      "execution_count": null,
      "outputs": []
    },
    {
      "cell_type": "code",
      "source": [
        "def deprocess_img(processed_img):\n",
        "  x = processed_img.copy()\n",
        "  if len(x.shape) == 4:\n",
        "    x = np.squeeze(x, 0)\n",
        "  assert len(x.shape) == 3, (\"Input to deprocess image must be an image of\"\n",
        "                             \"dimension [1, height, width, channel] or [height, width, channel]\")\n",
        "  if len(x.shape) != 3:\n",
        "    raise ValueError(\"Invalid input to deprocessing image\")\n",
        "\n",
        "  # Обратный шаг предварительной обработки\n",
        "  x[:, :, 0] += 103.939\n",
        "  x[:, :, 1] += 116.779\n",
        "  x[:, :, 2] += 123.68\n",
        "  x = x[:, :, ::-1]\n",
        "\n",
        "  x = np.clip(x, 0, 255).astype('uint8')\n",
        "  return x"
      ],
      "metadata": {
        "id": "JTXBg0i0-a6v"
      },
      "execution_count": null,
      "outputs": []
    },
    {
      "cell_type": "code",
      "source": [
        "# Слой содержимого — это место, где будут нарисованы наши карты объектов.\n",
        "content_layers = ['block5_conv2']\n",
        "\n",
        "# Нас интересует слой стиля\n",
        "style_layers = ['block1_conv1',\n",
        "                'block2_conv1',\n",
        "                'block3_conv1',\n",
        "                'block4_conv1',\n",
        "                'block5_conv1'\n",
        "               ]\n",
        "\n",
        "num_content_layers = len(content_layers)\n",
        "num_style_layers = len(style_layers)"
      ],
      "metadata": {
        "id": "odtvPELR-eM_"
      },
      "execution_count": null,
      "outputs": []
    },
    {
      "cell_type": "code",
      "source": [
        "vgg = keras.applications.vgg19.VGG19(include_top=False, weights='imagenet')\n",
        "vgg.trainable = False"
      ],
      "metadata": {
        "id": "jDgax_8y-8lp"
      },
      "execution_count": null,
      "outputs": []
    },
    {
      "cell_type": "code",
      "source": [
        "style_outputs = [vgg.get_layer(name).output for name in style_layers]\n",
        "content_outputs = [vgg.get_layer(name).output for name in content_layers]\n",
        "model_outputs = style_outputs + content_outputs"
      ],
      "metadata": {
        "id": "VJGmg3_jA0Jl"
      },
      "execution_count": null,
      "outputs": []
    },
    {
      "cell_type": "code",
      "source": [
        "print(vgg.input)\n",
        "for m in model_outputs:\n",
        "  print(m)"
      ],
      "metadata": {
        "id": "L4heSktbA9Zs"
      },
      "execution_count": null,
      "outputs": []
    },
    {
      "cell_type": "code",
      "source": [
        "model = keras.models.Model(vgg.input, model_outputs)\n",
        "print(model.summary())      # Отобразить структуру нейронной сети в консоли"
      ],
      "metadata": {
        "id": "D7GY1J52BXDa"
      },
      "execution_count": null,
      "outputs": []
    },
    {
      "cell_type": "code",
      "source": [
        "def get_content_loss(base_content, target):\n",
        "  return tf.reduce_mean(tf.square(base_content - target))"
      ],
      "metadata": {
        "id": "RdjdDs-FBybe"
      },
      "execution_count": null,
      "outputs": []
    },
    {
      "cell_type": "code",
      "source": [
        "def gram_matrix(input_tensor):\n",
        "  # Сначала мы загружаем изображения\n",
        "  channels = int(input_tensor.shape[-1])\n",
        "  a = tf.reshape(input_tensor, [-1, channels])\n",
        "  n = tf.shape(a)[0]\n",
        "  gram = tf.matmul(a, a, transpose_a=True)\n",
        "  return gram / tf.cast(n, tf.float32)"
      ],
      "metadata": {
        "id": "hMwtIc29CH35"
      },
      "execution_count": null,
      "outputs": []
    },
    {
      "cell_type": "code",
      "source": [
        "def get_style_loss(base_style, gram_target):\n",
        "  gram_style = gram_matrix(base_style)\n",
        "\n",
        "  return tf.reduce_mean(tf.square(gram_style - gram_target))"
      ],
      "metadata": {
        "id": "1QTV2B5ECsbn"
      },
      "execution_count": null,
      "outputs": []
    },
    {
      "cell_type": "code",
      "source": [
        "def get_feature_representations(model):\n",
        "  # Характеристики содержания и стиля последовательных вычислений\n",
        "  style_outputs = model(x_style)\n",
        "  content_outputs = model(x_img)\n",
        "\n",
        "  # Получите представление функций стиля и контента из нашей модели\n",
        "  style_features = [style_layer[0] for style_layer in style_outputs[:num_style_layers]]\n",
        "  content_features = [content_layer[0] for content_layer in content_outputs[num_style_layers:]]\n",
        "  return style_features, content_features"
      ],
      "metadata": {
        "id": "SMM5HoTpFnNi"
      },
      "execution_count": null,
      "outputs": []
    },
    {
      "cell_type": "code",
      "source": [
        "def compute_loss(model, loss_weights, init_image, gram_style_features, content_features):\n",
        "  style_weight, content_weight = loss_weights\n",
        "\n",
        "  model_outputs = model(init_image)\n",
        "\n",
        "  style_output_features = model_outputs[:num_style_layers]\n",
        "  content_output_features = model_outputs[num_style_layers:]\n",
        "\n",
        "  style_score = 0\n",
        "  content_score = 0\n",
        "\n",
        "  weight_per_style_layer = 1.0 / float(num_style_layers)\n",
        "  for target_style, comb_style in zip(gram_style_features, style_output_features):\n",
        "    style_score += weight_per_style_layer * get_style_loss(comb_style[0], target_style)\n",
        "\n",
        "  weight_per_content_layer = 1.0 / float(num_content_layers)\n",
        "  for target_content, comb_content in zip(content_features, content_output_features):\n",
        "    content_score += weight_per_content_layer* get_content_loss(comb_content[0], target_content)\n",
        "\n",
        "  style_score *= style_weight\n",
        "  content_score *= content_weight\n",
        "\n",
        "  # Получите полную потерю\n",
        "  loss = style_score + content_score\n",
        "  return loss, style_score, content_score"
      ],
      "metadata": {
        "id": "CgN6pRN8F-2r"
      },
      "execution_count": null,
      "outputs": []
    },
    {
      "cell_type": "code",
      "source": [
        "num_iterations=100\n",
        "content_weight=1e3\n",
        "style_weight=1e-2"
      ],
      "metadata": {
        "id": "d7bpKOxwIQ-l"
      },
      "execution_count": null,
      "outputs": []
    },
    {
      "cell_type": "code",
      "source": [
        "style_features, content_features = get_feature_representations(model)\n",
        "gram_style_features = [gram_matrix(style_feature) for style_feature in style_features]"
      ],
      "metadata": {
        "id": "sMVxBlnsIb2n"
      },
      "execution_count": null,
      "outputs": []
    },
    {
      "cell_type": "code",
      "source": [
        "init_image = np.copy(x_img)\n",
        "init_image = tf.Variable(init_image, dtype=tf.float32)"
      ],
      "metadata": {
        "id": "tf3X6d0xIgA9"
      },
      "execution_count": null,
      "outputs": []
    },
    {
      "cell_type": "code",
      "source": [
        "opt = tf.compat.v1.train.AdamOptimizer(learning_rate=2, beta1=0.99, epsilon=1e-1)\n",
        "iter_count = 1\n",
        "\n",
        "best_loss, best_img = float('inf'), None\n",
        "loss_weights = (style_weight, content_weight)"
      ],
      "metadata": {
        "id": "aU02Gi3vIoqH"
      },
      "execution_count": null,
      "outputs": []
    },
    {
      "cell_type": "code",
      "source": [
        "cfg = {\n",
        "      'model': model,\n",
        "      'loss_weights': loss_weights,\n",
        "      'init_image': init_image,\n",
        "      'gram_style_features': gram_style_features,\n",
        "      'content_features': content_features\n",
        "}"
      ],
      "metadata": {
        "id": "El0HJiqDI3uE"
      },
      "execution_count": null,
      "outputs": []
    },
    {
      "cell_type": "code",
      "source": [
        "norm_means = np.array([103.939, 116.779, 123.68])\n",
        "min_vals = -norm_means\n",
        "max_vals = 255 - norm_means\n",
        "imgs = []"
      ],
      "metadata": {
        "id": "F_7B5GHzJN5V"
      },
      "execution_count": null,
      "outputs": []
    },
    {
      "cell_type": "code",
      "source": [
        "for i in range(num_iterations):\n",
        "    with tf.GradientTape() as tape:\n",
        "       all_loss = compute_loss(**cfg)\n",
        "\n",
        "    loss, style_score, content_score = all_loss\n",
        "    grads = tape.gradient(loss, init_image)\n",
        "\n",
        "    opt.apply_gradients([(grads, init_image)])\n",
        "    clipped = tf.clip_by_value(init_image, min_vals, max_vals)\n",
        "    init_image.assign(clipped)\n",
        "\n",
        "    if loss < best_loss:\n",
        "      best_loss = loss\n",
        "      best_img = deprocess_img(init_image.numpy())\n",
        "\n",
        "      plot_img = deprocess_img(init_image.numpy())\n",
        "      imgs.append(plot_img)\n",
        "      print('Iteration: {}'.format(i))"
      ],
      "metadata": {
        "id": "9TiWQr4eJ_nj"
      },
      "execution_count": null,
      "outputs": []
    },
    {
      "cell_type": "code",
      "source": [
        "plt.imshow(best_img)\n",
        "print(best_loss)"
      ],
      "metadata": {
        "id": "5YTGsnmJLJuS"
      },
      "execution_count": null,
      "outputs": []
    },
    {
      "cell_type": "code",
      "source": [
        "image = Image.fromarray(best_img.astype('uint8'), 'RGB')\n",
        "image.save(\"out.jpg\")\n",
        "files.download(\"out.jpg\")"
      ],
      "metadata": {
        "id": "maQc_4NILp42"
      },
      "execution_count": null,
      "outputs": []
    }
  ]
}